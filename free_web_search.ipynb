{
 "cells": [
  {
   "cell_type": "markdown",
   "id": "6f172850",
   "metadata": {},
   "source": [
    "# LangChain 🦜 ~ Free Web Search "
   ]
  },
  {
   "cell_type": "markdown",
   "id": "d42bc791",
   "metadata": {},
   "source": [
    "## Objectives : \n",
    "\n",
    "    1. Langchain is bad at maths\n",
    "    ----------------------------\n",
    "    Let's prove it\n",
    "    Let's fix it\n",
    "    \n",
    "    2. SERPAPI needs tokens\n",
    "    -----------------------\n",
    "    We can avoid it\n",
    "    \n",
    "    3. Solve a deprecation warning for LLMMathChain\n",
    "    -----------------------------------------------\n",
    "    New Syntax"
   ]
  },
  {
   "cell_type": "code",
   "execution_count": 39,
   "id": "4a541949",
   "metadata": {},
   "outputs": [],
   "source": [
    "#!pip install duckduckgo-search"
   ]
  },
  {
   "cell_type": "markdown",
   "id": "781428a1",
   "metadata": {},
   "source": [
    "### Imports"
   ]
  },
  {
   "cell_type": "code",
   "execution_count": 40,
   "id": "e31e4b47",
   "metadata": {},
   "outputs": [],
   "source": [
    "import os\n",
    "OPENAI_API_KEY = os.environ.get(\"OPENAI_API_KEY\")\n",
    "\n",
    "from langchain.llms import OpenAI\n",
    "\n",
    "from langchain.llms import OpenAI\n",
    "from langchain.agents import Tool, initialize_agent\n",
    "from langchain.chat_models import ChatOpenAI\n",
    "from langchain.tools import DuckDuckGoSearchRun\n",
    "from langchain.utilities import WikipediaAPIWrapper\n",
    "from langchain import OpenAI, LLMMathChain\n",
    "from langchain.chains import LLMChain\n",
    "from langchain.agents.agent_types import AgentType"
   ]
  },
  {
   "cell_type": "markdown",
   "id": "daab3bc5",
   "metadata": {},
   "source": [
    "### LLM"
   ]
  },
  {
   "cell_type": "code",
   "execution_count": 41,
   "id": "ba2e8850",
   "metadata": {},
   "outputs": [],
   "source": [
    "llm = OpenAI(temperature=0)"
   ]
  },
  {
   "cell_type": "markdown",
   "id": "d9261d35",
   "metadata": {},
   "source": [
    "### Tools"
   ]
  },
  {
   "cell_type": "code",
   "execution_count": 42,
   "id": "13a5f8b1",
   "metadata": {},
   "outputs": [],
   "source": [
    "search = DuckDuckGoSearchRun()\n",
    "wikipedia = WikipediaAPIWrapper()\n",
    "\n",
    "\n",
    "# Web Search Tool\n",
    "search_tool = Tool(\n",
    "    name=\"Web Search\",\n",
    "    func=search.run,\n",
    "    description=\"A useful tool for searching the Internet to find information on world events, years, dates, issues, etc. Worth using for general topics. Use precise questions.\",\n",
    ")\n",
    "\n",
    "# Wikipedia Tool\n",
    "wikipedia_tool = Tool(\n",
    "    name=\"Wikipedia\",\n",
    "    func=wikipedia.run,\n",
    "    description=\"A useful tool for searching the Internet to find information on world events, issues, dates, years, etc. Worth using for general topics. Use precise questions.\",\n",
    ")\n",
    "\n",
    "\n",
    "from langchain import LLMMathChain\n",
    "\n",
    "#llm_math_chain = LLMMathChain(llm=llm, verbose=True) <- Deprecated !!!\n",
    "\n",
    "llm_math_chain = LLMMathChain.from_llm(llm=llm, verbose=True)\n",
    "math_tool = Tool.from_function(\n",
    "        func=llm_math_chain.run,\n",
    "        name=\"Calculator\",\n",
    "        description=\"Useful for when you need to answer questions about math. This tool is only for math questions and nothing else. Only input math expressions.\",\n",
    "    )\n",
    "\n"
   ]
  },
  {
   "cell_type": "markdown",
   "id": "97f68cb5",
   "metadata": {},
   "source": [
    "### Agent"
   ]
  },
  {
   "cell_type": "code",
   "execution_count": 43,
   "id": "0f89948b",
   "metadata": {},
   "outputs": [],
   "source": [
    "agent = initialize_agent(\n",
    "    tools = [search_tool,wikipedia_tool,math_tool],\n",
    "    llm=llm,\n",
    "    agent=AgentType.ZERO_SHOT_REACT_DESCRIPTION,\n",
    "    verbose=True,  \n",
    ")"
   ]
  },
  {
   "cell_type": "code",
   "execution_count": 44,
   "id": "5a29f004",
   "metadata": {},
   "outputs": [],
   "source": [
    "query = \"search for King Charles' current age in years and then calculate the cube root of that number to 1 decimal\""
   ]
  },
  {
   "cell_type": "markdown",
   "id": "d1835f75",
   "metadata": {},
   "source": [
    "### Run"
   ]
  },
  {
   "cell_type": "code",
   "execution_count": 45,
   "id": "7e2a1134",
   "metadata": {},
   "outputs": [
    {
     "name": "stdout",
     "output_type": "stream",
     "text": [
      "\n",
      "\n",
      "\u001b[1m> Entering new  chain...\u001b[0m\n",
      "\u001b[32;1m\u001b[1;3m I need to find the age of King Charles and then calculate the cube root of that number\n",
      "Action: Web Search\n",
      "Action Input: \"King Charles age\"\u001b[0m\n",
      "Observation: \u001b[36;1m\u001b[1;3mQuick Facts FULL NAME: Charles Philip Arthur George BORN: November 14, 1948 BIRTHPLACE: London, England, United Kingdom PARENTS: Queen Elizabeth II and Prince Philip SPOUSES: Princess Diana... He becomes a monarch at the age of 73. But there are a number of practical - and traditional - steps which he must go through to be crowned King. Who is Charles? Charles was born at... At the age of 73, he became the oldest person to accede to the British throne, after having been the longest-serving heir apparent and Prince of Wales in British history. His coronation took place at Westminster Abbey on 6 May 2023. Early life, family, and education November 14, 1948 (age 74) London England Title / Office: king (2022-), United Kingdom Notable Family Members: 03:14 Sept. 13, 2022, 12:11 PM PDT / Updated May 5, 2023, 9:01 AM PDT / Source: TODAY By A. Pawlowski On coronation day, all eyes will be on King Charles III as he is officially crowned at 74 —...\u001b[0m\n",
      "Thought:\u001b[32;1m\u001b[1;3m I need to calculate the cube root of King Charles' age\n",
      "Action: Calculator\n",
      "Action Input: 74^(1/3)\u001b[0m\n",
      "\n",
      "\u001b[1m> Entering new  chain...\u001b[0m\n",
      "74^(1/3)\u001b[32;1m\u001b[1;3m```text\n",
      "74**(1/3)\n",
      "```\n",
      "...numexpr.evaluate(\"74**(1/3)\")...\n",
      "\u001b[0m\n",
      "Answer: \u001b[33;1m\u001b[1;3m4.198336453808407\u001b[0m\n",
      "\u001b[1m> Finished chain.\u001b[0m\n",
      "\n",
      "Observation: \u001b[38;5;200m\u001b[1;3mAnswer: 4.198336453808407\u001b[0m\n",
      "Thought:\u001b[32;1m\u001b[1;3m I now know the final answer\n",
      "Final Answer: The cube root of King Charles' age is 4.2.\u001b[0m\n",
      "\n",
      "\u001b[1m> Finished chain.\u001b[0m\n"
     ]
    },
    {
     "data": {
      "text/plain": [
       "\"The cube root of King Charles' age is 4.2.\""
      ]
     },
     "execution_count": 45,
     "metadata": {},
     "output_type": "execute_result"
    }
   ],
   "source": [
    "agent.run(query)"
   ]
  },
  {
   "cell_type": "markdown",
   "id": "1cb95f6b",
   "metadata": {},
   "source": [
    "### Check"
   ]
  },
  {
   "cell_type": "code",
   "execution_count": 46,
   "id": "49fe6b85",
   "metadata": {},
   "outputs": [
    {
     "data": {
      "text/plain": [
       "74.08800000000001"
      ]
     },
     "execution_count": 46,
     "metadata": {},
     "output_type": "execute_result"
    }
   ],
   "source": [
    "4.2**3"
   ]
  },
  {
   "cell_type": "code",
   "execution_count": 47,
   "id": "08c3c5cf",
   "metadata": {},
   "outputs": [
    {
     "data": {
      "text/plain": [
       "78.402752"
      ]
     },
     "execution_count": 47,
     "metadata": {},
     "output_type": "execute_result"
    }
   ],
   "source": [
    "4.28**3"
   ]
  },
  {
   "cell_type": "code",
   "execution_count": null,
   "id": "3176bb07",
   "metadata": {},
   "outputs": [],
   "source": []
  }
 ],
 "metadata": {
  "kernelspec": {
   "display_name": "Python 3 (ipykernel)",
   "language": "python",
   "name": "python3"
  },
  "language_info": {
   "codemirror_mode": {
    "name": "ipython",
    "version": 3
   },
   "file_extension": ".py",
   "mimetype": "text/x-python",
   "name": "python",
   "nbconvert_exporter": "python",
   "pygments_lexer": "ipython3",
   "version": "3.10.6"
  }
 },
 "nbformat": 4,
 "nbformat_minor": 5
}
