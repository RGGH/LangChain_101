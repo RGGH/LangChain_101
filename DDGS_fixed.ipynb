{
 "cells": [
  {
   "cell_type": "code",
   "execution_count": 110,
   "id": "6d7bf03a",
   "metadata": {},
   "outputs": [],
   "source": [
    "!pip -q install langchain openai tiktoken"
   ]
  },
  {
   "cell_type": "code",
   "execution_count": 22,
   "id": "ef300724",
   "metadata": {},
   "outputs": [],
   "source": [
    "import os\n",
    "OPENAI_API_KEY = os.environ.get(\"OPENAI_API_KEY\")"
   ]
  },
  {
   "cell_type": "code",
   "execution_count": 112,
   "id": "68a92767",
   "metadata": {},
   "outputs": [],
   "source": [
    "!pip -q install wikipedia"
   ]
  },
  {
   "cell_type": "code",
   "execution_count": 113,
   "id": "2bf9aefb",
   "metadata": {},
   "outputs": [],
   "source": [
    "from langchain.utilities import WikipediaAPIWrapper"
   ]
  },
  {
   "cell_type": "code",
   "execution_count": 114,
   "id": "1f7f93b9",
   "metadata": {},
   "outputs": [],
   "source": [
    "wikipedia = WikipediaAPIWrapper()"
   ]
  },
  {
   "cell_type": "code",
   "execution_count": 115,
   "id": "9d279ff9",
   "metadata": {
    "collapsed": true
   },
   "outputs": [
    {
     "data": {
      "text/plain": [
       "\"Page: LangChain\\nSummary: LangChain is a framework designed to simplify the creation of applications using large language models (LLMs). As a language model integration framework, LangChain's use-cases largely overlap with those of language models in general, including document analysis and summarization, chatbots, and code analysis.\\n\\n\\n\\nPage: Sentence embedding\\nSummary: In natural language processing, a sentence embedding refers to a numeric representation of a sentence in the form of a vectors of real numbers which encodes meaningful semantic information.State of the art embeddings are based on the learned hidden layer representation of dedicated sentence transformer models. BERT pioneered an approach involving the use of a dedicated [CLS] token preprended to the beginning of each sentence inputted into the model; the final hidden state vector of this token encodes information about the sentence and can be fine-tuned for use in sentence classification tasks. In practice however, BERT's sentence embedding with the [CLS] token achieves poor performance, often worse than simply averaging non-contextual word embeddings. SBERT later achieved superior sentence embedding performance by fine tuning BERT's [CLS] token embeddings through the usage of a siamese neural network architecture on the SNLI dataset. \\nOther approaches are loosely based on the idea of distributional semantics applied to sentences. Skip-Thought trains an encoder-decoder structure for the task of neighboring sentences predictions. Though this has been shown to achieve worse performance than approaches such as InferSent or SBERT. \\nAn alternative direction is to aggregate word embeddings, such those returned by Word2vec, into sentence embeddings. The most straightforward approach is to simply compute the average of word vectors, known as continuous bag-of-words (CBOW). However, more elaborate solutions based on word vector quantization have also been proposed. One such approach is the vector of locally aggregated word embeddings (VLAWE), which demonstrated performance improvements in downstream text classification tasks.\""
      ]
     },
     "execution_count": 115,
     "metadata": {},
     "output_type": "execute_result"
    }
   ],
   "source": [
    "wikipedia.run('Langchain')"
   ]
  },
  {
   "cell_type": "code",
   "execution_count": 116,
   "id": "b4fbf4f7",
   "metadata": {},
   "outputs": [],
   "source": [
    "from langchain.utilities import PythonREPL"
   ]
  },
  {
   "cell_type": "code",
   "execution_count": 117,
   "id": "c840a118",
   "metadata": {},
   "outputs": [],
   "source": [
    "python_repl = PythonREPL()"
   ]
  },
  {
   "cell_type": "code",
   "execution_count": 118,
   "id": "395a1049",
   "metadata": {},
   "outputs": [
    {
     "data": {
      "text/plain": [
       "'34\\n'"
      ]
     },
     "execution_count": 118,
     "metadata": {},
     "output_type": "execute_result"
    }
   ],
   "source": [
    "python_repl.run(\"print(17*2)\")"
   ]
  },
  {
   "cell_type": "code",
   "execution_count": 13,
   "id": "3430493b",
   "metadata": {},
   "outputs": [],
   "source": [
    "!pip -q install duckduckgo-search"
   ]
  },
  {
   "cell_type": "code",
   "execution_count": 24,
   "id": "acf83bc4",
   "metadata": {},
   "outputs": [
    {
     "data": {
      "text/plain": [
       "['281.38 +3.48 (+1.25%) At close: 04:00PM EDT 281.75 +0.37 (+0.13%) After hours: 08:00PM EDT Stock chart is not supported by your current browser Gain actionable insight from technical analysis on...',\n",
       " 'Tesla Inc Follow Share $281.38 After Hours: $281.76 (0.14%) +0.38 Closed: Jul 14, 7:59:48 PM GMT-4 · USD · NASDAQ · Disclaimer search Compare to Apple Inc $190.69 AAPL0.079% NVIDIA Corp $454.69...',\n",
       " 'Real-Time After-Hours Pre-Market Charts Key Data Bid Price and Ask Price The bid & ask refers to the price that an investor is willing to buy or sell a stock. The bid is the highest amount...',\n",
       " 'Overview Stock Screener Earnings Calendar Sectors Nasdaq | TSLA U.S.: Nasdaq Tesla Inc. Watch list After Hours Last Updated: Jul 14, 2023 7:59 p.m. EDT Delayed quote $ 281.75 0.37 0.13% After...',\n",
       " 'MarketWatch IBD Tesla Inc. TSLA (U.S.: Nasdaq) AT CLOSE 4:00 PM EDT 07/14/23 $281.38USD 3.48 1.25% AFTER HOURS 7:59 PM EDT 07/14/23 $281.75 0.37 0.13% AFTER HOURS Vol 3,380,084 Volume 120,062,369...',\n",
       " 'Historical Prices Frequency: Daily Download',\n",
       " \"Find real-time TSLA - Tesla Inc stock quotes, company profile, news and forecasts from CNN Business. ... Price/Sales: 5.25: Price/Book: 19.92: Competitors Today's change Today's % change; TM ...\",\n",
       " '1y 3y 5y max Mountain-Chart Date Compare with Remove all Compare with up to 5 Stocks On Friday 07/14/2023 the closing price of the Tesla share was $281.38 on NAS. Compared to the opening...',\n",
       " \"About Real-Time Quotes Nasdaq provides NLS Volume, Previous Close, Today's High & Low, and the 52 week High & Low. The intraday chart, the last-five real-time quotes and sales data. Real-time...\",\n",
       " 'At Yahoo Finance, you get free stock quotes, up-to-date news, portfolio management resources, international market data, social interaction and mortgage rates that help you manage your financial life.',\n",
       " 'Trading Information Last Close 281.38 Sector Consumer Cyclical Industry Auto Manufacturers Investment Style Large Growth Day Range 276.31 - 285.30 Year Range 101.81 - 314.67 Market Cap 891.8351 Bil...',\n",
       " \"Tesla Inc. historical stock charts and prices, analyst ratings, financials, and today's real-time TSLA stock price.\",\n",
       " \"Here's how much Tesla's market cap is up since start of 2023. Tesla (NASDAQ: TSLA) has exhibited an exceptional performance in the year 2023, with its shares currently trading at $271.99, representing a remarkable year-to-date (YTD) increase of $163.89 or 151.61... 4 days ago - Finbold.\",\n",
       " 'TSLA: Tesla Inc - Stock Price, Quote and News - CNBC',\n",
       " '... Back to TSLA Overview Get up to 10 years of daily historical stock prices & volumes. The \"Close/Last\" is the \"adjust consolidated close price\". Data provided by Edgar Online . The net and...',\n",
       " 'Real time Tesla (TSLA) stock price quote, stock graph, news & analysis.',\n",
       " \"Tesla (TSLA) Stock Forecast, Price & News $281.38 +3.48 (+1.25%) (As of 07/14/2023 ET) Compare Today's Range $276.31 $285.30 50-Day Range $166.35 $282.48 52-Week Range $101.81 $314.67 Volume 120.06 million shs Average Volume 127.19 million shs Market Capitalization $891.84 billion P/E Ratio 82.76 Dividend Yield N/A Price Target $219.16\",\n",
       " 'A high-level overview of Tesla, Inc. (TSLA) stock. Stay up to date on the latest stock price, chart, news, analysis, fundamentals, trading and investment tools.',\n",
       " \"Tesla stock was recently up about 3%. The move follows the news that the company built its first Cybertruck, as well as price cuts from Ford on its Lightning electric pickup. Ford's shares were ...\",\n",
       " 'Find the latest Tesla, Inc. (TSLA) stock quote, history, news and other vital information to help you with your stock trading and investing.',\n",
       " 'Get the latest Tesla Inc (TSLA) real-time quote, historical performance, charts, and other financial information to help you make more informed trading and investment decisions.',\n",
       " 'Tesla shares have slumped in recent weeks, losing 26% of their value between a record high in late January and its closing price Friday. But at least one analyst sees better times ahead — much ...',\n",
       " 'Fundamentals Market Capitalization, $K 891,835,008 Shares Outstanding, K 3,169,504 Annual Sales, $ 81,462 M Annual Income, $ 12,583 M 60-Month Beta 2.04 Price/Sales 10.81 Price/Cash Flow 53.94 Price/Book 18.04 Trade TSLA with: Price/Earnings ttm 81.74 Earnings Per Share ttm 3.40 Most Recent Earnings 0.85 on 04/19/23 Next Earnings Date 07/19/23',\n",
       " 'Tesla, Inc. Common Stock (TSLA) Pre-Market Stock Quotes - Nasdaq offers pre-market quotes and pre-market activity data for US and global markets.',\n",
       " 'Tesla Inc (TSLA) Stock Price Today, Quote, Latest Discussions, Interactive Chart and News Advertisement Home Symbol TSLA TSLA Tesla Inc 903,556 Watch $281.38 $3.48 (1.25%) Today $281.75 0.37 (0.13%) After Hours Market Cap $891.83B Volume (M) 120.06M 52-Wk High $314.67 52-Wk Low $101.81 About Feed News Sentiment Fundamentals',\n",
       " \"View the real-time TSLA price chart on Robinhood and decide if you want to buy or sell commission-free. Other fees such as trading (non-commission) fees, Gold subscription fees, wire transfer fees, and paper statement fees may apply. See Robinhood Financial's fee schedule at rbnhd.co/fees to learn more.\",\n",
       " '\"I think in 2025 it [Tesla stock] will be $500 to $600. And in eight to 10 years we ought to be somewhere around $4.5 trillion,\" Ron Baron said.',\n",
       " 'So what The most likely culprit for Tesla\\'s decline today? That\\'s still \"volatility.\" And case in point, Tesla stock was down yesterday morning, too, before ending up sharply higher by the...',\n",
       " 'Tesla, Inc. (TSLA) stock forecast and price target. Find the latest Tesla, Inc. TSLA analyst stock forecast, price target, and recommendation trends with in-depth analysis from research reports.',\n",
       " \"Key takeaways Tesla's stock price has rallied 20% since it announced the risky decision to cut the price of its Model Y and Model 3 units A strong Q4 performance gave Tesla its most...\",\n",
       " \"| Getty Images Key takeaways Right before Tesla's AI Day started, the stock price was at $265.25. The Tesla stock price has plummeted since, it's currently priced at $223.07. Many pointed...\",\n",
       " 'Tesla Inc. analyst ratings, historical stock prices, earnings estimates & actuals. TSLA updated stock price target summary.',\n",
       " '$237.50 (-15.59% Downside) Based on 30 Wall Street analysts offering 12 month price targets for Tesla in the last 3 months. The average price target is $237.50 with a high forecast of $335.00 and a low forecast of $85.00. The average price target represents a -15.59% change from the last price of $281.38. Highest Price Target $335.00',\n",
       " \"Tesla shares sink, wipe out over $125 billion in value, as Musk scores Twitter deal. A survey by Morning Consult found that between October and November 2022, Tesla's net favorability fell by 20 ...\",\n",
       " 'Shares in electric vehicle maker Tesla sank to a new 52-week low on Tuesday, closing around $138 per share, or 8% lower for the day in an otherwise mixed day for stocks. CEO Elon Musk tried to ...',\n",
       " 'Tesla ( TSLA) stock is charging higher on Monday after the electric-vehicle maker announced its long awaited Cybertruck pikckup hit another big milestone. In a tweet over the weekend, the...',\n",
       " 'Historical daily share price chart and data for Tesla since 2010 adjusted for splits and dividends. The latest closing stock price for Tesla as of July 14, 2023 is 281.38. The all-time high Tesla stock closing price was 409.97 on November 04, 2021. The Tesla 52-week high stock price is 314.67, which is 11.8% above the current share price.',\n",
       " \"Tesla Price Target and Analyst Ratings 2023 (NASDAQ:TSLA) Followed 294 Times Most-Upgraded Stocks Most-Downgraded Stocks NASDAQ:TSLA Tesla (TSLA) Price Target & Analyst Ratings $281.38 +3.48 (+1.25%) (As of 07/14/2023 ET) Compare Today's Range $276.31 $285.30 50-Day Range $166.35 $282.48 52-Week Range $101.81 $314.67 Volume 120.06 million shs\",\n",
       " \"Updated: Sep 7, 2022, 7:11pm Editorial Note: We earn a commission from partner links on Forbes Advisor. Commissions do not affect our editors' opinions or evaluations. Getty Whether they admire...\",\n",
       " 'TSLA - Tesla, Inc. Stock Price and Quote Upgrade to FINVIZ*Elite to get real-time quotes, intraday charts, and advanced charting tools. publish chart | save to portfolio | create alert | compare perf. Candle - advanced Draw TSLA - Stock Price Chart open in yahoo | open in reuters | open in marketwatch open in google open in EDGAR',\n",
       " \"By Jack Ewing Dec. 30, 2022 In a down year for stocks, the 65 percent drop in Tesla's share price stands out for the scale of wealth vaporized and the unorthodox behavior of its chief...\",\n",
       " 'TSLA Nasdaq Stock Market • NLS real time price • CURRENCY IN USD • Automobiles & Auto Parts TESLA, INC. Share to social media Compare TESLA, INC. 241.05 \\u200e -6.06% 241.05 at close -15.55 (\\u200e...',\n",
       " 'Tesla (TSLA) stock forecast for 2022. Forecast tables and graphs. All stock predictions All currency forecasts All cryptocurrency predictions Detailed predictions for TSLA stock 2023 2024 2025 2026 Tesla, Inc. Analysis TSLA News & Mentions Popular stocks: Mullen Automotive Exela Technologies Arrival Amazon Lucid Group Rivian Automotive Tesla']"
      ]
     },
     "execution_count": 24,
     "metadata": {},
     "output_type": "execute_result"
    }
   ],
   "source": [
    "from langchain.tools import DuckDuckGoSearchRun\n",
    "'''\n",
    "    \"snippet\": result[\"body\"],\n",
    "    \"title\": result[\"title\"],\n",
    "    \"link\": result[\"href\"],\n",
    "'''\n",
    "\n",
    "from duckduckgo_search import DDGS\n",
    "\n",
    "results = DDGS().text(\"Tesla stock price?\")\n",
    "[result['body'] for result in results]"
   ]
  },
  {
   "cell_type": "code",
   "execution_count": null,
   "id": "e89562cf",
   "metadata": {},
   "outputs": [],
   "source": []
  }
 ],
 "metadata": {
  "language_info": {
   "codemirror_mode": {
    "name": "ipython",
    "version": 3
   },
   "file_extension": ".py",
   "mimetype": "text/x-python",
   "name": "python",
   "nbconvert_exporter": "python",
   "pygments_lexer": "ipython3",
   "version": "3.10.6"
  }
 },
 "nbformat": 4,
 "nbformat_minor": 5
}
