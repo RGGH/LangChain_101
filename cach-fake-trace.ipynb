{
 "cells": [
  {
   "cell_type": "code",
   "execution_count": 4,
   "id": "54416b02",
   "metadata": {},
   "outputs": [],
   "source": [
    "from langchain.agents import initialize_agent\n",
    "from langchain.agents import AgentType\n",
    "from langchain.chat_models import ChatOpenAI\n",
    "from langchain.agents import load_tools\n",
    "tools = load_tools(['python_repl', 'requests_all', 'terminal'])"
   ]
  },
  {
   "cell_type": "markdown",
   "id": "ab6ba0ae",
   "metadata": {},
   "source": [
    "# Fake LLM"
   ]
  },
  {
   "cell_type": "code",
   "execution_count": 5,
   "id": "a21d656b",
   "metadata": {},
   "outputs": [],
   "source": [
    "''' FAKE '''\n",
    "from langchain.llms.fake import FakeListLLM\n",
    "\n",
    "responses = [\"Action: Python REPL\\nAction Input: print(2.2 + 2.22)\", \"Final Answer: 4.42\"]\n",
    "llm = FakeListLLM(responses=responses)"
   ]
  },
  {
   "cell_type": "code",
   "execution_count": 6,
   "id": "d191e3be",
   "metadata": {},
   "outputs": [],
   "source": [
    "# ''' REAL '''\n",
    "# # ------------------------------------\n",
    "llm = ChatOpenAI(\n",
    "        model_name=\"gpt-3.5-turbo\",\n",
    "    )\n",
    "# # ------------------------------------"
   ]
  },
  {
   "cell_type": "code",
   "execution_count": 7,
   "id": "dcf8adec",
   "metadata": {},
   "outputs": [
    {
     "name": "stdout",
     "output_type": "stream",
     "text": [
      "\n",
      "\n",
      "\u001b[1m> Entering new AgentExecutor chain...\u001b[0m\n"
     ]
    },
    {
     "name": "stderr",
     "output_type": "stream",
     "text": [
      "Python REPL can execute arbitrary code. Use with caution.\n"
     ]
    },
    {
     "name": "stdout",
     "output_type": "stream",
     "text": [
      "\u001b[32;1m\u001b[1;3mI should use Python_REPL to perform the addition.\n",
      "Action: Python_REPL\n",
      "Action Input: 2.2+2.22\u001b[0m\n",
      "Observation: \u001b[36;1m\u001b[1;3m\u001b[0m\n",
      "Thought:\u001b[32;1m\u001b[1;3mI should print out the result to see the answer.\n",
      "Action: Python_REPL\n",
      "Action Input: print(2.2+2.22)\u001b[0m\n",
      "Observation: \u001b[36;1m\u001b[1;3m4.42\n",
      "\u001b[0m\n",
      "Thought:\u001b[32;1m\u001b[1;3mI now know the final answer\n",
      "Final Answer: 4.42\u001b[0m\n",
      "\n",
      "\u001b[1m> Finished chain.\u001b[0m\n"
     ]
    },
    {
     "data": {
      "text/plain": [
       "'4.42'"
      ]
     },
     "execution_count": 7,
     "metadata": {},
     "output_type": "execute_result"
    }
   ],
   "source": [
    "agent = initialize_agent(\n",
    "    tools, llm,  agent=AgentType.ZERO_SHOT_REACT_DESCRIPTION, verbose=True\n",
    ")\n",
    "agent.run(\"whats 2.2+2.22?\")"
   ]
  },
  {
   "cell_type": "code",
   "execution_count": 8,
   "id": "05108ff2",
   "metadata": {},
   "outputs": [],
   "source": [
    "# https://github.com/langchain-ai/langchain/discussions/3257 ~ Arnaud - aruno14"
   ]
  },
  {
   "cell_type": "markdown",
   "id": "c05a5ed2",
   "metadata": {},
   "source": [
    "# Caching"
   ]
  },
  {
   "cell_type": "code",
   "execution_count": 9,
   "id": "2e24c635",
   "metadata": {},
   "outputs": [],
   "source": [
    "import langchain\n",
    "from langchain.cache import InMemoryCache\n",
    "langchain.llm_cache = InMemoryCache()"
   ]
  },
  {
   "cell_type": "code",
   "execution_count": 10,
   "id": "5db7f1e5",
   "metadata": {},
   "outputs": [
    {
     "data": {
      "text/plain": [
       "\"Sure, here's a classic joke for you:\\n\\nWhy don't scientists trust atoms?\\n\\nBecause they make up everything!\""
      ]
     },
     "execution_count": 10,
     "metadata": {},
     "output_type": "execute_result"
    }
   ],
   "source": [
    "# The first time, it is not yet in cache, so it should take longer\n",
    "llm.predict(\"Tell me a joke\")"
   ]
  },
  {
   "cell_type": "code",
   "execution_count": 12,
   "id": "a2e5c537",
   "metadata": {},
   "outputs": [
    {
     "data": {
      "text/plain": [
       "\"Sure, here's a classic joke for you:\\n\\nWhy don't scientists trust atoms?\\n\\nBecause they make up everything!\""
      ]
     },
     "execution_count": 12,
     "metadata": {},
     "output_type": "execute_result"
    }
   ],
   "source": [
    "# The second time it is, so it goes faster\n",
    "llm.predict(\"Tell me a joke\")"
   ]
  },
  {
   "cell_type": "code",
   "execution_count": null,
   "id": "8a2f7c40",
   "metadata": {},
   "outputs": [],
   "source": []
  }
 ],
 "metadata": {
  "kernelspec": {
   "display_name": "Python 3 (ipykernel)",
   "language": "python",
   "name": "python3"
  },
  "language_info": {
   "codemirror_mode": {
    "name": "ipython",
    "version": 3
   },
   "file_extension": ".py",
   "mimetype": "text/x-python",
   "name": "python",
   "nbconvert_exporter": "python",
   "pygments_lexer": "ipython3",
   "version": "3.10.6"
  }
 },
 "nbformat": 4,
 "nbformat_minor": 5
}
