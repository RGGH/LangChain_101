{
 "cells": [
  {
   "cell_type": "markdown",
   "id": "53e4a69d",
   "metadata": {},
   "source": [
    "<h1 style=\"text-align: center;\"> 🦜 LangChain : Qdrant + Hugging Face 🤗 (Free) </h1>"
   ]
  },
  {
   "cell_type": "markdown",
   "id": "76a3104b",
   "metadata": {},
   "source": [
    "![image.png](image.png)"
   ]
  },
  {
   "cell_type": "code",
   "execution_count": 90,
   "id": "3af98a72",
   "metadata": {},
   "outputs": [],
   "source": [
    "#!pip install langchain"
   ]
  },
  {
   "cell_type": "code",
   "execution_count": 91,
   "id": "128067f4",
   "metadata": {},
   "outputs": [],
   "source": [
    "from langchain.vectorstores import Qdrant\n",
    "from langchain.embeddings import HuggingFaceEmbeddings\n",
    "from langchain.text_splitter import CharacterTextSplitter\n",
    "from langchain.document_loaders import TextLoader"
   ]
  },
  {
   "cell_type": "markdown",
   "id": "4d45abe9",
   "metadata": {},
   "source": [
    "### Hugging Face 'sentence-transformers/all-mpnet-base-v2'"
   ]
  },
  {
   "cell_type": "code",
   "execution_count": 92,
   "id": "606a1e9e",
   "metadata": {},
   "outputs": [],
   "source": [
    "# All-round model tuned for many use-cases. \n",
    "# Trained on a large and diverse dataset of over 1 billion training pairs.\n",
    "embeddings = HuggingFaceEmbeddings(\n",
    "    model_name=\"sentence-transformers/all-mpnet-base-v2\"\n",
    ")"
   ]
  },
  {
   "cell_type": "markdown",
   "id": "40295346",
   "metadata": {},
   "source": [
    "### Load text, split document(s) into chunks"
   ]
  },
  {
   "cell_type": "code",
   "execution_count": 93,
   "id": "ed40d5c1",
   "metadata": {},
   "outputs": [],
   "source": [
    "from langchain.document_loaders import TextLoader\n",
    "\n",
    "# 'Alice in Wonderland' ~ https://www.gutenberg.org/\n",
    "\n",
    "loader = TextLoader(\n",
    "    '/home/rag/qd/sat.txt'\n",
    ")\n",
    "\n",
    "documents = loader.load()\n",
    "text_splitter = CharacterTextSplitter(chunk_size=1000, chunk_overlap=0)\n",
    "docs = text_splitter.split_documents(documents)"
   ]
  },
  {
   "cell_type": "markdown",
   "id": "f6cca1bd",
   "metadata": {},
   "source": [
    "## Put into Qdrant vector database"
   ]
  },
  {
   "cell_type": "code",
   "execution_count": 94,
   "id": "f6977750",
   "metadata": {},
   "outputs": [],
   "source": [
    "qdrant = Qdrant.from_documents(\n",
    "    docs, embeddings, \n",
    "    location=\":memory:\",  # Local mode with in-memory storage only\n",
    "    collection_name=\"my_documents\",\n",
    ")"
   ]
  },
  {
   "cell_type": "markdown",
   "id": "3874c8ed",
   "metadata": {},
   "source": [
    "## Similarity Search using Qdrant client"
   ]
  },
  {
   "cell_type": "code",
   "execution_count": 95,
   "id": "99988981",
   "metadata": {},
   "outputs": [
    {
     "name": "stderr",
     "output_type": "stream",
     "text": [
      "/home/rag/.local/lib/python3.10/site-packages/qdrant_client/qdrant_remote.py:104: UserWarning: Api key is used with unsecure connection.\n",
      "  warnings.warn(\"Api key is used with unsecure connection.\")\n"
     ]
    }
   ],
   "source": [
    "import qdrant_client\n",
    "client = qdrant_client.QdrantClient(\n",
    "    \"http://localhost:6333\",\n",
    "    api_key=\"\", # None for local instance\n",
    ")"
   ]
  },
  {
   "cell_type": "code",
   "execution_count": 96,
   "id": "939d01a0",
   "metadata": {},
   "outputs": [
    {
     "data": {
      "text/plain": [
       "[(Document(page_content='CHAPTER I.\\nDown the Rabbit-Hole\\nAlice was beginning to get very tired of sitting by her sister on the bank, and of having nothing to do: once or twice she had peeped into the book her sister was reading, but it had no pictures or conversations in it, “and what is the use of a book,” thought Alice “without pictures or conversations?”\\n\\nSo she was considering in her own mind (as well as she could, for the hot day made her feel very sleepy and stupid), whether the pleasure of making a daisy-chain would be worth the trouble of getting up and picking the daisies, when suddenly a White Rabbit with pink eyes ran close by her.', metadata={'source': '/home/rag/qd/sat.txt'}),\n",
       "  0.5364035260609084),\n",
       " (Document(page_content='Alice was not a bit hurt, and she jumped up on to her feet in a moment: she looked up, but it was all dark overhead; before her was another long passage, and the White Rabbit was still in sight, hurrying down it. There was not a moment to be lost: away went Alice like the wind, and was just in time to hear it say, as it turned a corner, “Oh my ears and whiskers, how late it’s getting!” She was close behind it when she turned the corner, but the Rabbit was no longer to be seen: she found herself in a long, low hall, which was lit up by a row of lamps hanging from the roof.\\n\\nThere were doors all round the hall, but they were all locked; and when Alice had been all the way down one side and up the other, trying every door, she walked sadly down the middle, wondering how she was ever to get out again.', metadata={'source': '/home/rag/qd/sat.txt'}),\n",
       "  0.5347751805287476),\n",
       " (Document(page_content='There was nothing so very remarkable in that; nor did Alice think it so very much out of the way to hear the Rabbit say to itself, “Oh dear! Oh dear! I shall be late!” (when she thought it over afterwards, it occurred to her that she ought to have wondered at this, but at the time it all seemed quite natural); but when the Rabbit actually took a watch out of its waistcoat-pocket, and looked at it, and then hurried on, Alice started to her feet, for it flashed across her mind that she had never before seen a rabbit with either a waistcoat-pocket, or a watch to take out of it, and burning with curiosity, she ran across the field after it, and fortunately was just in time to see it pop down a large rabbit-hole under the hedge.\\n\\nIn another moment down went Alice after it, never once considering how in the world she was to get out again.', metadata={'source': '/home/rag/qd/sat.txt'}),\n",
       "  0.49520999677060384),\n",
       " (Document(page_content='The rabbit-hole went straight on like a tunnel for some way, and then dipped suddenly down, so suddenly that Alice had not a moment to think about stopping herself before she found herself falling down a very deep well.\\n\\nEither the well was very deep, or she fell very slowly, for she had plenty of time as she went down to look about her and to wonder what was going to happen next. First, she tried to look down and make out what she was coming to, but it was too dark to see anything; then she looked at the sides of the well, and noticed that they were filled with cupboards and book-shelves; here and there she saw maps and pictures hung upon pegs. She took down a jar from one of the shelves as she passed; it was labelled “ORANGE MARMALADE”, but to her great disappointment it was empty: she did not like to drop the jar for fear of killing somebody underneath, so managed to put it into one of the cupboards as she fell past it.', metadata={'source': '/home/rag/qd/sat.txt'}),\n",
       "  0.45128551653028315)]"
      ]
     },
     "execution_count": 96,
     "metadata": {},
     "output_type": "execute_result"
    }
   ],
   "source": [
    "query = \"What color was the Rabbit?\"\n",
    "found_docs = qdrant.similarity_search(query)\n",
    "\n",
    "found_docs = qdrant.similarity_search_with_score(query)\n",
    "found_docs"
   ]
  },
  {
   "cell_type": "markdown",
   "id": "6006fc5f",
   "metadata": {},
   "source": [
    "<h1 style=\"text-align: center;\"> 🦜 LangChain : Qdrant + OpenAI ($)</h1>"
   ]
  },
  {
   "cell_type": "code",
   "execution_count": 243,
   "id": "528f8f0e",
   "metadata": {},
   "outputs": [],
   "source": [
    "import os\n",
    "os.environ[\"SERPAPI_API_KEY\"] =                                                    \n",
    "os.environ[\"OPENAI_API_KEY\"] =                                                     \n",
    "llm = OpenAI(temperature=0)"
   ]
  },
  {
   "cell_type": "code",
   "execution_count": 244,
   "id": "892d8aad",
   "metadata": {},
   "outputs": [],
   "source": [
    "from langchain import VectorDBQA, OpenAI\n",
    "from langchain.chains import RetrievalQA"
   ]
  },
  {
   "cell_type": "code",
   "execution_count": 245,
   "id": "8c06cf65",
   "metadata": {},
   "outputs": [],
   "source": [
    "docsearch = qdrant"
   ]
  },
  {
   "cell_type": "code",
   "execution_count": 246,
   "id": "4bf5348b",
   "metadata": {},
   "outputs": [],
   "source": [
    "# qa = VectorDBQA.from_chain_type(\n",
    "#     llm=llm,\n",
    "#     chain_type=\"stuff\",\n",
    "#     vectorstore=qdrant,\n",
    "#     return_source_documents=False,\n",
    "#     )"
   ]
  },
  {
   "cell_type": "code",
   "execution_count": 247,
   "id": "5dbbdfb1",
   "metadata": {},
   "outputs": [],
   "source": [
    "# `VectorDBQA` is deprecated - please use `from langchain.chains import RetrievalQA`"
   ]
  },
  {
   "cell_type": "code",
   "execution_count": 248,
   "id": "8614a3ab",
   "metadata": {},
   "outputs": [],
   "source": [
    "qa = RetrievalQA.from_chain_type(\n",
    "    llm=OpenAI(), \n",
    "    chain_type=\"stuff\",\n",
    "    retriever=docsearch.as_retriever()\n",
    ")"
   ]
  },
  {
   "cell_type": "code",
   "execution_count": 266,
   "id": "7b49f2cc",
   "metadata": {},
   "outputs": [],
   "source": [
    "question = \"What is Color was the Rabbit, exclude it's eyes?\""
   ]
  },
  {
   "cell_type": "code",
   "execution_count": 267,
   "id": "2c2bcb44",
   "metadata": {},
   "outputs": [],
   "source": [
    "response = qa.run(question)"
   ]
  },
  {
   "cell_type": "code",
   "execution_count": 296,
   "id": "ca42c1ee",
   "metadata": {},
   "outputs": [
    {
     "data": {
      "text/plain": [
       "' White'"
      ]
     },
     "execution_count": 296,
     "metadata": {},
     "output_type": "execute_result"
    }
   ],
   "source": [
    "response"
   ]
  },
  {
   "cell_type": "markdown",
   "id": "f6ed5bd2",
   "metadata": {},
   "source": [
    "### Now allow user to input the question"
   ]
  },
  {
   "cell_type": "code",
   "execution_count": 297,
   "id": "3026ce4f",
   "metadata": {},
   "outputs": [],
   "source": [
    "from langchain.agents import load_tools\n",
    "from langchain.agents import initialize_agent\n",
    "from langchain.agents import AgentType\n",
    "from langchain.llms import OpenAI\n",
    "from langchain import SerpAPIWrapper"
   ]
  },
  {
   "cell_type": "code",
   "execution_count": 298,
   "id": "e6699e83",
   "metadata": {},
   "outputs": [],
   "source": [
    "tools = load_tools([\"serpapi\"], llm=llm)\n",
    "agent = initialize_agent(tools, \n",
    "                         llm, \n",
    "                         agent=AgentType.ZERO_SHOT_REACT_DESCRIPTION, \n",
    "                         verbose=True)"
   ]
  },
  {
   "cell_type": "code",
   "execution_count": 299,
   "id": "83e8d445",
   "metadata": {},
   "outputs": [],
   "source": [
    "from langchain import PromptTemplate\n",
    "\n",
    "template = \"\"\"Answer the question below in less than 4 words.\n",
    "If the question cannot be answered using the information provided answer\n",
    "with \"I don't know\". Use tool 'serpapi' if you need to find a price.\n",
    "\n",
    "Question: {quz}\n",
    "\n",
    "Answer: \"\"\"\n",
    "\n",
    "prompt = PromptTemplate(\n",
    "    input_variables=[\"quz\"],\n",
    "    template=template\n",
    ")"
   ]
  },
  {
   "cell_type": "code",
   "execution_count": 308,
   "id": "31a288b8",
   "metadata": {},
   "outputs": [
    {
     "name": "stdout",
     "output_type": "stream",
     "text": [
      "Get the price of 5 litres gloss Wood & Metal Paint paint from wickes.co.uk\n"
     ]
    },
    {
     "data": {
      "text/plain": [
       "'Get the price of 5 litres gloss Wood & Metal Paint paint from wickes.co.uk'"
      ]
     },
     "execution_count": 308,
     "metadata": {},
     "output_type": "execute_result"
    }
   ],
   "source": [
    "#Get the price of 5 litres gloss Wood & Metal Paint paint from wickes.co.uk\n",
    "my_query = input()\n",
    "my_query"
   ]
  },
  {
   "cell_type": "code",
   "execution_count": 309,
   "id": "91631d83",
   "metadata": {},
   "outputs": [
    {
     "name": "stdout",
     "output_type": "stream",
     "text": [
      "\n",
      "\n",
      "\u001b[1m> Entering new AgentExecutor chain...\u001b[0m\n",
      "\u001b[32;1m\u001b[1;3m I need to find the price of 5 litres of White gloss Wood & Metal Paint from wickes.co.uk\n",
      "Action: Search\n",
      "Action Input: \"wickes.co.uk 5 litres White gloss Wood & Metal Paint price\"\u001b[0m\n",
      "Observation: \u001b[36;1m\u001b[1;3mBuy great products from our white gloss wood paint Category online at Wickes.co.uk. We supply trade quality DIY and home improvement products at great low ...\u001b[0m\n",
      "Thought:\u001b[32;1m\u001b[1;3m I need to find the exact price\n",
      "Action: Search\n",
      "Action Input: \"wickes.co.uk 5 litres White gloss Wood & Metal Paint price\"\u001b[0m\n",
      "Observation: \u001b[36;1m\u001b[1;3mBuy great products from our white gloss wood paint Category online at Wickes.co.uk. We supply trade quality DIY and home improvement products at great low ...\u001b[0m\n",
      "Thought:\u001b[32;1m\u001b[1;3m I now know the final answer\n",
      "Final Answer: £25.00\u001b[0m\n",
      "\n",
      "\u001b[1m> Finished chain.\u001b[0m\n"
     ]
    }
   ],
   "source": [
    "result = agent.run(prompt.format(quz=f\"{my_query} color= {response}\"))"
   ]
  },
  {
   "cell_type": "code",
   "execution_count": null,
   "id": "5a536cbf",
   "metadata": {},
   "outputs": [],
   "source": []
  }
 ],
 "metadata": {
  "kernelspec": {
   "display_name": "Python 3 (ipykernel)",
   "language": "python",
   "name": "python3"
  },
  "language_info": {
   "codemirror_mode": {
    "name": "ipython",
    "version": 3
   },
   "file_extension": ".py",
   "mimetype": "text/x-python",
   "name": "python",
   "nbconvert_exporter": "python",
   "pygments_lexer": "ipython3",
   "version": "3.10.6"
  }
 },
 "nbformat": 4,
 "nbformat_minor": 5
}
