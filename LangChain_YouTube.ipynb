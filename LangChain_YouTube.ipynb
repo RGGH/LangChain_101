{
 "cells": [
  {
   "cell_type": "markdown",
   "id": "d072aab9",
   "metadata": {},
   "source": [
    "<h1>🦜LangChain</h1>\n",
    "<h2>Summarize a YouTube Video + Count token Usage</h2><img src=\"yt.png\" />\n",
    "<style>\n",
    "h1 {text-align: center;}\n",
    "h2 {text-align: center;}\n",
    "div {text-align: center;}\n",
    "</style>"
   ]
  },
  {
   "cell_type": "markdown",
   "id": "757fc44f",
   "metadata": {},
   "source": [
    "### Objectives : \n",
    "    summarize a video - LangChain YouTube Loader + OpenAI\n",
    "    count token usage - LangChain\n",
    "    translate the summary to German - Helsinki-NLP/opus-mt-en-de"
   ]
  },
  {
   "cell_type": "code",
   "execution_count": 42,
   "id": "35b9a0bc",
   "metadata": {},
   "outputs": [],
   "source": [
    "url = 'https://python.langchain.com/docs/modules/model_io/models/llms/how_to/token_usage_tracking'"
   ]
  },
  {
   "cell_type": "code",
   "execution_count": 33,
   "id": "947d368f",
   "metadata": {},
   "outputs": [],
   "source": [
    "#!pip install langchain\n",
    "#!pip install sacremoses\n",
    "from tqdm import tqdm"
   ]
  },
  {
   "cell_type": "code",
   "execution_count": 43,
   "id": "653e10c6",
   "metadata": {},
   "outputs": [],
   "source": [
    "import asyncio # for callback only\n",
    "from langchain.callbacks import get_openai_callback\n",
    "from langchain.document_loaders import YoutubeLoader\n",
    "from langchain import OpenAI\n",
    "from langchain.chains.summarize import load_summarize_chain\n",
    "from langchain.text_splitter import RecursiveCharacterTextSplitter"
   ]
  },
  {
   "cell_type": "code",
   "execution_count": 45,
   "id": "707b0790",
   "metadata": {},
   "outputs": [
    {
     "name": "stdout",
     "output_type": "stream",
     "text": [
      "<class 'list'>\n"
     ]
    }
   ],
   "source": [
    "loader = YoutubeLoader(video_id=\"Onzd5QxKaGQ\")\n",
    "result = loader.load()"
   ]
  },
  {
   "cell_type": "code",
   "execution_count": 7,
   "id": "67df0a9f",
   "metadata": {},
   "outputs": [],
   "source": [
    "text_splitter = RecursiveCharacterTextSplitter(chunk_size=2000, chunk_overlap=20)\n",
    "texts = text_splitter.split_documents(result)"
   ]
  },
  {
   "cell_type": "code",
   "execution_count": 35,
   "id": "9f7218ef",
   "metadata": {},
   "outputs": [
    {
     "data": {
      "text/plain": [
       "[Document(page_content=\"gitco News special coverage of Bitcoin 2023 is brought to you by coin payments crypto payments made easy I'm Michelle McCrory we are at Bitcoin 2023 the largest Bitcoin conference in the world and we are kicking off our coverage with arguably a legend in the Bitcoin space Michael Saylor executive chairman and founder of microstrategy a prolific investor in Bitcoin best-selling author and one of the biggest proponents of Bitcoin Michael so good to have you with us thank you for having me well Michael I actually had the pleasure of first meeting you at Bitcoin 2021 we had an interview prior to that and then I had the pleasure of chatting to you face to face in Bitcoin 2021 and you said then that Bitcoin is going to be the emerging store of value Asset in the 21st century the dominant emerging store value Asset in the 21st century in terms of how Bitcoin is being deployed as a store of value Asset are you where you thought we would be two years on yeah actually um if we look back uh to when microstrategy began this journey which was around August of 2020 and we look at the performance of all major asset classes since that time period bitcoin's up about 140 percent uh the s p index is up maybe 25 percent the NASDAQ is up in the teens uh actually maybe even less uh gold is like a plus one percent Silver's been down it's lost money and bonds have have lost even more so Bitcoin is the best performing asset since then it is actually showing the promise of an inflation hedge and a store of value it has achieved that kind of performance in a volatile fashion but even on the sharp ratio of basis it's outperforming uh Alternatives and I guess the best alternative right now is really the s p index which requires that you take uh Equity risk the the world wants a hard commodity money but the second best commodity is gold and it's just not standing up to bitcoin at this point in time and the weaker Commodities like silver soybeans oil Timber they they just don't work because when\", metadata={'source': 'Onzd5QxKaGQ'}),\n",
       " Document(page_content=\"work because when the price goes up you can make more of it and of course if you if you can't use a commodity you got to go to a security and if you go to a security you've got counterparty risk because Securities have issuers and so Bitcoin is filling this void it's the asset without an issuer that is not just a commodity but a scarcity it's capped and I think that's why it's outperforming all these other assets over this time period well as you mentioned you were the first public company to have Bitcoin on the the balance sheet as a reserve asset um part of the capital allocation strategy that was in the summer of uh 2020. uh you've subsequently added to that position uh you're up to about 140 000 Bitcoin with microstrategy and at the time you described it when you first purchased it as a Dependable store value and an attractive investment asset with more long-term appreciation potential than holding cash I mean that certainly has proven to be the case so far but again in terms of adoption are you surprised that it hasn't gotten more adoption as a treasury Reserve asset amongst other public companies by my count according to coin gecko only 23 publicly listed companies have Bitcoin as a treasury Reserve asset I believe after microstrategy Marathon digital Holdings has the highest Bitcoin ownership given everything you've just described are you surprised that more public companies don't see it the way you do well I guess we've gone from microstrategy being the first to there being two dozen or 24. so I think going from zero before we got into the market to 24 right now shows some promise for something which is completely new in the history of the human race um it doesn't surprise me uh the reason it's challenging is is a couple of factors one is the accounting the accounting was indefinite and intangible and if I had to boil that down that's toxic if I wanted you not to buy an asset I would make it indefinite an intangible accounting because what that means is you\", metadata={'source': 'Onzd5QxKaGQ'}),\n",
       " Document(page_content=\"that means is you always have to write it down but you can never write it up which means that you will never ever ever have an investment gain on so on an asset with that kind of accounting it had that accounting because it was a new novel scary not understood thing that no one used and so the accounting industry took the most conservative view they could take and perhaps that was reasonable in the 2014 time frame or 2017. we're moving toward fair value accounting right now and I think the first Milestone we'll have to get over is we'll have to go to fair value accounting before publicly traded Gap reporting company can reasonably get enthusiastic about large sums of this asset I think the the second thing holding it back is crypto confusion um a lot of people had a hard time distinguishing between Bitcoin and FTX and ftt token and Terra and Luna token and is that a stable coin and and all these other crypto assets that has that that got to Peak confusion um about a year ago when all the crypto companies bought out all the Super Bowl ads yeah and for the last 12 months there's been this Crackdown meltdown rationalization where every single one of these Wildcat crypto companies has been going bankrupt and all of their air tokens have have been crashing and then everyone promoting the air tokens is getting sued for for a pumping unregistered Securities now that's a very expensive like multi-hundred billion dollar educational lesson for the marketplace and the media um until we actually get assured clear distance some amount of distance from that crypto Crackdown I think that conservative CFOs will be a little bit careful there I think that uh the Silver Lining there is bitcoin's credibility has has and been enhanced in the past 12 to 24 months because all of the bankruptcies of the other crypto companies have Illustrated economically why they are not assets without an issuers if there was no issuer there'd be no one to go bankrupt right so the bankruptcies have been\", metadata={'source': 'Onzd5QxKaGQ'}),\n",
       " Document(page_content=\"have been demonstrative and that has forced The Regulators uh both in the cftc and the SEC and the like to point out that Bitcoin is commodity and that is that has required Millions if not tens of millions of people to understand the difference or learn the difference between a commodity and the security so bitcoin's class asset class or its classification as a commodity properly understood and and broadly understood by the entire investment Community is kind of the second Chasm we have to cross the third Chasm is the entire crypto industry right now is under pressure and cracked down from the regulators and and there's a lot of pressure on crypto exchanges crypto currencies crypto asset Securities and until that's resolved and and you see Bitcoin trading on regulated exchanges that have been endorsed by the SEC or by The Regulators I think there are a lot of conservative investors that will just stand off and wait the way you'll know that happened is when the SEC approves a Bitcoin spot ETF that's kind of an indicator that they've decided that they endorse the exchanges trading the asset and they've never liked the fact that the asset Bitcoin is cross-collateralizing cross-traded with other crypto assets the idea that do Quan could issue 60 billion dollars of Luna and then issue 20 billion dollars of UST and then buy four billion dollars of Bitcoin backed by 60 billion of an error token and then wash traded right on an unregistered exchange without surveillance that has been a bother that has been really offensive for Regulators so when the crypto industry gets cleaned up and when the investing public is educated and when the accounting is normalized I think you'll see more conservative CFOs start to look at this as an asset they can allocate to in size okay a lot of points to touch on there uh let's look at the idea of a coin spot ETF which you're saying would be the sign that Regulators are on board with Bitcoin some would argue though that that potentially\", metadata={'source': 'Onzd5QxKaGQ'}),\n",
       " Document(page_content=\"that potentially compromises the Integrity of Bitcoin that when you have ETFs when you have Futures when you have derivatives when you have all of these synthetic products linked to bitcoin it compromises the Integrity of the core asset it also allows for potential manipulation you could have more um paper Bitcoin than real Bitcoin money would say that we see something like that in the gold market is that necessarily a good thing though to have all of these spin-offs and derivatives off of an asset like Bitcoin I think that the thing that compromises the Integrity of Bitcoin now and in the past was the existence of the crypto exchanges and the crypto tokens that that were actually trading Bitcoin so it's FTX that compromise the Integrity of Bitcoin because Sam bankman free took billions of dollars of Bitcoin under custody and then re-hypothecated it and then sold it and then lost it while it was conjoined with the trading of the ftt token which he was manipulating by a wash trading and insider trading so the problem is Bitcoin being traded on exchanges or wrapped into Securities that are unregistered unregistered unregulated offshore and I think that the Regulators are going to continue to pursue all of those Securities and unregistered Security and unregulated Exchange you know and uncontrolled old Financial instrument those things are going are viewed as the problem uh that that is impairing Bitcoin from uh it's impairing them from approving a Bitcoin spot ETF if none of those things existed and you were a regulated company an SEC 40 act company say or SEC 33 but especially in this case SEC 40ac company in the U.S and you wanted to buy Bitcoin spot and then offer an ETF I think that that would be acceptable to Regulators because you're a regulated and transparent organization the um the the thing that threatens the Integrity of the asset isn't the security per se it's the lack of transparency around the security combined with the ability to engage in insider\", metadata={'source': 'Onzd5QxKaGQ'}),\n",
       " Document(page_content=\"to engage in insider trading to manipulate the price of the security so in that particular case that means that publicly traded companies in the U.S let's say a public company in the US that holds Timber rates doesn't threaten the price of Timber they're disclosing the the timber that they're trading and Timber is a commodity a publicly traded company in the U.S that discloses their ownership Bitcoin isn't the problem the problem is offshore non-transparent unregulated wildcat banks cross cross trading cross-coateralizing and conjoining Bitcoin with 10 000 other crypto assets points taken on on the public companies but I guess my my question was more in terms of even regulated uh derivatives as we had um you know with with homes and mortgage-backed securities and cds's and everything sort of linked back to that even though the core asset at some point made me sound is it a good thing to have all of these spin-offs even if they're regulated linked back to bitcoin does it compromise the original Mission of Bitcoin which was a response to the 2008 financial crisis I suppose the Bitcoin purist would take the position you should only own Bitcoin and you should solve custody are you not a Bitcoin purist uh I am a Bitcoin realist I believe that if Bitcoin is going to be the solution for 8 billion people on the planet then it's going to be inevitable that Banks need Bitcoin and corporations need Bitcoin and governments need Bitcoin in cities and states need Bitcoin and non-profit agencies need Bitcoin and so uh at the end of the day the city of New York is not going to allow the mayor to walk around with the Bitcoin you know and and personal custody and it's not really practical for you know the defense department of the United States of America to let one General have all the Bitcoin right so so large institutions churches corporations and the like they're going to need an infrastructure of custodians and Banks and so I do think there will be a time when all the big banks\", metadata={'source': 'Onzd5QxKaGQ'}),\n",
       " Document(page_content=\"all the big banks will custody Bitcoin I also like if you're a three-year-old child how are you in a self-custody Bitcoin when you inherited the Bitcoin from your grandfather how are you going to self-custody bitcoin when you're 12 months old and if you're 85 years old with Alzheimer's you're not going to self-custody bitcoin either so I think that there are all sorts of groups of people that can't reasonably be expected to self-custody and I think uh you know when you have a family or a Family Trust And there are 47 people in the family you're probably going to use a trust company that will manage the Bitcoin for you and I think as long as there are corporations Apple computer is going to have Bitcoin Annapolis Corporation and they're not just going to give it to Tim Cook right the I mean in fact they can't right so um if you believe nation states will continue to exist then you're going to have you're going to have Bitcoin held by uh institutional sources they're going to have to have a bank to hold it for them and if you believe uh in the continuation of cities and corporations and distributed family units if you believe in insurance when you buy an insurance policy and you back it with Bitcoin the insurance company is going to have a very particular way and they're not going to let the insurance salesperson hold the Bitcoin for you and so how do you do it right so I I think that Bitcoin is in inevitably it's going uh to permeate all of the traditional institutions in the world in different ways for different reasons economic reasons physical reasons political reasons on the point of Regulation some would argue that there has been lack of Regulation by Design coinbase's uh CEO said that the company would move out of the U.S if they don't get regulatory Clarity from American authorities coinbase uh is trying to sue the SEC to get more clarity on that and I know that the U.S Chamber of Commerce has backed coinbase spiling and Amicus brief claiming that the sec's\", metadata={'source': 'Onzd5QxKaGQ'}),\n",
       " Document(page_content=\"that the sec's regulatory chaos is by Design not happenstance is that what you think is going on is it by Design I think The Regulators are of the opinion that they don't want billions of dollars of U.S currency to circulate in dark pools in such a way that they evade the controls of the banking system the kyc the AML controls and they don't want to be used for sanctions evasion and for that reason stable coins are a problem for them and I don't think they're going to change their view I think they've also decided that many many if not most of the crypto tokens or Securities and their unregistered Securities being being manipulated by the issuer in an unethical fashion and they don't have full disclosure and therefore they're violating Securities laws and I think their their opinion of those two things has strengthened in the past 12 months I think the Meltdown of FTX was a catalytic event that caused The Regulators to decide that crypto exchanges crypto Securities and cryptocurrencies that imitate the dollar are not really consistent with a stable World Financial system and they're going to take actions to shut that down everywhere in the world I don't think there is I don't think anywhere in the world uh that's going to be tolerated I think it's just a matter of time as to as to how long it'll take for that to be wound down regarding Bitcoin that does seem to be the one issue of clarity there seems to be consistent Clarity that Bitcoin is different because Bitcoin is a commodity it doesn't mean that it's out of the crosshairs of of Washington and Regulators particularly the Elizabeth Warrens of the world what would be your message to Washington regarding Bitcoin well Bitcoin is is the one universally acknowledged digital commodity in the world and it is backed by a Bitcoin mining Network which represents digital power so Bitcoin itself represents the world's most secure database and the Bitcoin Network represents the world's most secure computer network so my\", metadata={'source': 'Onzd5QxKaGQ'}),\n",
       " Document(page_content=\"network so my message to Washington would be if you want to take advantage of the world's most secure database and a fault tolerant military-grade Communications Network then you would want to embrace Bitcoin you have so such tremendous conviction when it comes to bitcoin and I wondered what your Epiphany moment was if you had an aha moment where it all sort of came together for you um I think during the covid lockdowns when the interest rate went to zero uh it became clear that that if you had hundreds of millions of dollars earning zero percent short-term interest rate it's not an asset it's a liability 500 million dollars held for for a long period of time when the inflation rate is 20 percent and the interest rate is zero percent has a negative real yield of minus 20 percent which means that your 500 million is is worth 400 million 12 months later so in a world where the monetary inflation rate is greater than the discount rate offered by the central bank in that world if you're a positive working capital if you have a billion dollars in your treasury when the negative spread is minus ten percent you're losing 100 million a year so in that world you can't rationally have a positive treasury balance you need to have negative working capital so in a world of consistent monetary inflation inflation and low interest rates the rational thing to do is to do an lbo and go into debt and actually not hold a billion in capital but rather borrow a billion in capital and have a razor thin margin of 10 or 20 million dollars the problem with doing an lbo and borrowing billions of dollars so you have negative working capital is the Toys R Us problem which is eventually you have a bad quarter and you have no Capital so you go bankrupt so it's like with your family if I said all of your assets are being are being inflated or devalued debased every year and you go well my great solution is I'm going to give up all my family's assets borrow as much money as I can and then one day\", metadata={'source': 'Onzd5QxKaGQ'}),\n",
       " Document(page_content=\"can and then one day you're not going to be able to make the mortgage payment and all your kids are going to starve so the epiphany of of 2020 was the only path forward there's two paths forward either I have to impoverish the company by loading it up with debt and we're going to eventually trip and die and that's why the mortality rate and all these lbos is 99 they all go bankrupt and they're Torn to Pieces and it's bad for the employees bad for the customers bad for the shareholders or the other possibility is I have to convert my treasury into an asset that cannot be debased by the government I have to have tangible assets so if you have 500 million are you going to buy 500 million of buildings or oil rights or Timber or coal or soybeans or gold or Bitcoin and I looked and I said well I can't find 500 million worth of art to buy arts's store of value sort of inflation hedge if you held it for a hundred years it's worth more today than it was 100 years ago you can't say the same for the dollar so I can't find Art to buy I can't you know do I buy land I can't find a portfolio of 500 million dollars commercial real estate to buy it was all overvalued uh can you buy the s b index no the problem with the corporation is is accounting rules and Law requires that no more than 40 percent of your balance sheet be invested in securities there happens to be a carve out to hold treasuries although treasuries are technically Securities they're deemed as as property or Commodities in the accounting profession for that purpose but I just couldn't go by the index and if I did buy the index the problem with that is the typical investor would say why did you buy the s p index when I could buy the s p index so you're not really adding value to an investor so the question is what is the most valuable King commodity that you can buy that's property and not a security that actually adds value to investor that that can reasonably be expected to appreciate in time as the dollar is\", metadata={'source': 'Onzd5QxKaGQ'}),\n",
       " Document(page_content=\"as the dollar is debased and that got me looking for either gold like gold is sound money for 5 000 years or Bitcoin and I concluded the crypto goal was better than gold if I could create a gold network with 21 million gold coins if I could make it illegal to mine any more gold if I could make it possible to teleport the gold if I could make it possible to program the goal that a million Cycles a second they'll be better than gold so I thought well I guess theoretically we could create that and what happened in the crypto world is they created a form of crypto gold a pharmaceutical grade synthetic gold but it's faster smarter stronger than gold all of the advantages of gold a bearer instrument with no counterparty risk that's a non-sovereign store of value that was the advantage is none of the disadvantages of gold it's expensive to move it's centralizing people can steal it from you and gold miners keep debasing it by making more gold so once we saw that we said okay crypto gold looks better than soybeans looks better than real estate looks better than gold what's crypto gold is it Bitcoin or is it some other crypto asset and after studying all ten thousand the crypto assets you know you could start with the top 100 you concluded Bitcoins the most decentralized Bitcoin didn't have an Ico Bitcoin didn't have a pre-mine Bitcoin isn't controlled by a corporation Bitcoin isn't controlled by the court devs it isn't controlled by the Bitcoin Foundation they fought a civil war over the future of it people that wanted to corrupt it or change it lost the Civil War you got a winner and so the Providence of Bitcoin indicated that it is and Truth truthfully the digital synthetic successor to gold and then the conclusion is well if Bitcoin works then gold won't because every intelligent person with money has to choose one or the other and so if they choose Bitcoin Bitcoin is going to appreciate at a faster rate gold is going to fail eventually people will sell all their gold\", metadata={'source': 'Onzd5QxKaGQ'}),\n",
       " Document(page_content=\"sell all their gold they'll buy Bitcoin and not only will you not be successful holding gold you'll lose all your money to buy gold hence we would run up one percent if we bought gold instead microstrategy was up 140 percent to buy Bitcoin so that was our epiphany and to put this in perspective microstrategy had a 600 million dollar Enterprise Value in the summer of 2020 and today it has a 6.6 billion dollar Enterprise Value so the Enterprise Value increased by a factor of 10 our market cap increased by a factor of four and we went from having a 500 million dollar dead money asset a liability on our balance sheet called the US dollar there was always going to yield less than the inflation rate to 4 billion dollars plus of a digital asset which is appreciating 50 percent a year for the past three years so we transformed our company in essence you could call it a digital like a digital Reit of sort like we basically backed it with billions and billions of dollars of a digital scarcity and instead of having to basically give all 500 million dollars back to the shareholders in a buyback or do an lbo where we decapitalize the company where we had no assets we can we flipped it such that today we have billions and billions of dollars of assets and we're the best capitalized we've ever been in the financially the strongest by not in that Journey the market cap increased by a factor of four the the asset base increased by a factor of eight and the Enterprise Value increased by a factor of 10 and of course we found an Institutional purpose right now microstrategy is in essence providing a security backed by Bitcoin that allows an Institutional Investor in a matter of 30 seconds to buy 10 million dollars of exposure and in the absence of microstrategy that investor would take three to five years to go through the process of vetting the custodians the exchanges changing their Charter and reconfiguring uh their organization such that they could actually invest directly in a\", metadata={'source': 'Onzd5QxKaGQ'}),\n",
       " Document(page_content=\"invest directly in a commodity a lot to unpack there but the point is that out of necessity Bitcoin was uh the only solution that presented itself um whether a gold is announced or not and also I know you've had many debates whether people formal qualified than I am to conduct them with you but we'll we'll leave that one aside in terms of um microstrategies current Holdings and I understand that you're saying that it's a it's a proxy way to for companies to uh have exposure to bitcoin and currently hold 140 000 Bitcoin correct me if I'm wrong purchased for 4.17 billion at an average price of twenty nine thousand eight hundred and three dollars for each coin um now I understand that this is a long term strategy and ultimately you're very bullish on bitcoin but you're a public company you have a balance sheet which looks good when the price of Bitcoin does well and when Bitcoin dropped it made the company look less good shall we say so as a company I'm assuming you have models and you have four costs of where you need the price of Bitcoin to be um what is that on a short-term basis where do you see Bitcoin say ending 2023 where does it need to be for it to work out on the balance sheet of microstrategy it's already worked out right I mean the the market cap is up the stock price is up the return for our shareholders since we adopted the Bitcoin strategy is like it was like a hundred and fifty percent it was higher than the return on the Bitcoin itself so our our corporate stock actually uh has has tracked with some volatility the Bitcoin performance and sometimes in some periods we actually perform better than Bitcoin so we've we've delivered uh shareholder returns and access of NASDAQ and access of every big Tech stock in excess of every asset class and access of every enterprise software competitor and access to the s p so bitcoin's done what it needs to do and our company is fine and as for where does it need to be I think the key here is we're a levered Bitcoin\", metadata={'source': 'Onzd5QxKaGQ'}),\n",
       " Document(page_content=\"a levered Bitcoin play but about two billion dollars of the money we used to buy the Bitcoin was effectively equity and about 2.2 billion was a debt instrument although most of that is convertible debt so it's convertible to equity so only 500 million dollars of the Bitcoin purchases were with actual uh debt corporate debt or senior secured debt and the company has generating positive cash flow and it has Bitcoin assets foreign excess of any of the debt instruments we have outstanding so Bitcoin I expect will just continue to go up forever it will go up forever with volatility it will it will it's on a bull run now it'll charge fourth until it gets to some point there'll be a contraction and a drawdown and it will continue we will just continue to acquire and hold Bitcoin we'll do it with cash flows that's a creative we'll do it occasionally with debt if we like the debt markets right now the debt markets aren't particularly amenable to corporate offerings at one point you could issue a billion dollars of debt at zero percent interest that was much more amenable so when debt markets are open we'll use debt when Equity markets are accretive and it makes sense to sell Equity because it's a creative to sell the equity and buy the Bitcoin we'll do that when neither of them are are creative we'll just use cash flows and if we don't have cash we'll just wait because Bitcoin itself is the most thermodynamically sound asset which means if we just wait for all the Fiat currencies of the world to inflate as the world issues more dollars pesos boulevards and euros and Yen and one it stands to reason that the price of Bitcoin measured in those units of account is just going to continue to appreciate to our benefit the benefit of our shareholders again you give me so many bits to focus on in one answer but but let's focus on this tremendous conviction that you have is there any scenario is there any development that could derail your thesis I I'm sure you you did a very thorough\", metadata={'source': 'Onzd5QxKaGQ'}),\n",
       " Document(page_content=\"did a very thorough analysis when deciding to go into Bitcoin as as strongly as you have was there any scenario that you plotted out that said if that were to develop if that were to be revealed as true if this were to happen if this were to change it derails your thesis you know we we scoured all of the property assets art property commercial real estate property every form of property and then we scoured all the Commodities and we considered every form of commodity from gold to Silver to soybeans to oil to natural gas and then we considered all the crypto assets and at the end of the day we concluded that Bitcoin was the best and then and we made our decision we've been executing the strategy I since then we've spent thousands of hours studying every development in the crypto ecosystem every development of Bitcoin ecosystem all the macroeconomic all the political all the regulatory moves my conviction today and my my comfort and comment and today is stronger than it was in August of 2020 it's gotten progressively stronger each year and so I I don't see anything that's a threat on the horizon at this point but but let me let me be clear with one other point which is we're a publicly traded company and our job is to execute a business strategy with transparency and integrity yeah there are publicly traded companies that invest in oil fields and there are other companies that invest in Timber rates and there are other companies that invest in commercial real estate if you're an investor and you want Timber exposure you want the company that's investing in Timber rights to do that thing and if you hate Timber and you want to short it you're going to short that company stock and if you love timber you're going to go long the stock so microstrategy represents Bitcoin to a public company investor and for people that are skeptical of Bitcoin that have that have any number of fears I think Dr Evil will invent a quantum computer and hack Bitcoin they will just short us and\", metadata={'source': 'Onzd5QxKaGQ'}),\n",
       " Document(page_content=\"just short us and our job is actually to be long Bitcoin so they can short us and for companies that think that's silly and bitcoin's going the moon they'll go long but there are a lot of people that don't have an opinion whether it's going to go up or go down they just want to sell the volatility and they will literally trade the options and there are some people that simply want to trade or Arbitrage the convertible debt that we issued versus the equities versus our options versus Bitcoin versus Bitcoin options and so the reason that microstrategy is Meaningful and the reason there's so much interest in the company is we have a strategy that we're executing with Integrity with consistency with transparency and if if you are a hedge fund you don't want me to be a hedge fund you you know there are people with bloombergs that make a hundred trades a day and they and they might love Bitcoin in the morning and hate it in the evening in order for them to trade our stock they have to know that I'm not making a hundred trades a day and so they're looking for someone that's going to pursue a Bitcoin strategy there's 10 000 other companies in the public market that don't right so if you want another strategy you can find someone that loves fill in the blank anything under the sun and I wouldn't invest in that thing but I'm it's not my job to second guess those investors and their view is Mike you're convicted 150 percent look I'm a hundred fifty percent 200 percent exposed to bitcoin they're not they might be one percent convinced so they've got a billion dollars they take one percent of a billion which is 10 million dollars and they buy microstrategy stock because they want to get one percent convinced and one percent exposed and if I were to go and and I were to worry and diversify across soybeans and corn and oil and natural gas and I represented a hundred different things I would be all things to all people and nothing interesting to anybody because that's just a random\", metadata={'source': 'Onzd5QxKaGQ'}),\n",
       " Document(page_content=\"that's just a random index a Commodities index they don't want me to do that so our company strategy is just rational in order to be of service to the institutional investors are my personal View and the company's view is Bitcoin is the winner it is the king of all Commodities it is the king of all cryptos it just keeps getting stronger and you are free as an investor right to agree with me and go long or disagree with me in short my stock right and either of those consequences is fine with us uh let's talk about some of the macroeconomic effectors here because as you said you were looking at treasuries treasuries have not proven to be such a safe a safe asset certainly when you look at the banks that were buying treasuries only to have the FED raise interest rates and then have their treasuries lose their Mark to market value which resulted in these banking crises and the banking collapse that we're seeing and again inflation was your primary concern back in 2020 so on the macro side what is your outlook for inflation in the U.S with a seemingly more aggressive fed um well I I think that um inflation is tossed around as a colloquial term and then oftentimes central banks would like for you to uh to define inflation as the Consumer Price Index and when the CPI gets too high they want you to define inflation as the core price index or they come up with any number of price indexes which are actually lower than the rate of monetary inflation when I look at inflation my my question is at what rate is the currency expanding versus scarce desirable assets and if the cost of something scarce and desirable is going up 20 a year the inflation rate is 20 percent but you know CPI normally measures not scarce assets it normally measures the cost of generating box cereal or the cost of a cheap cookie cutter apartment created with plywood plaster board Stamped Out in 18 000 quantities so I don't think the inflation rate is a CPI I think right now the CPI is higher than the\", metadata={'source': 'Onzd5QxKaGQ'}),\n",
       " Document(page_content=\"is higher than the interest rate so so we do have a problem where on any basis your money is a negative real yield but if I had to estimate I would say the real inflation rate the monetary inflation rate is 10 to 15 percent a year in the dollar the mod the CPI inflation rate in Argentina is something like 105 percent but that just means that the true inflation rate against scarcessible assets must be 150 percent um so I think that um everywhere in the world you're looking at Monetary inflation 10 to 15 percent right now because everything's pegged to the dollar the strongest currencies don't do any better than the dollar and so I think your choice is you've either got something in the low teens as your inflation rate or you've got a weaker currency and there your inflation rate is in the 20s or you've got a weaker currency and your inflation rate is in the 40s 50s all the way up to 100 plus and um I I think that uh the conclusion is nowhere in the world is there a positive real yield there you know and Argentina was like is it like 90 interest rate that's not positive real yields there's no positive real yield in any place there's just a question of how negative is it and the conclusion is you can't hold bonds the bond index in that period since we bought Bitcoin is down 18 so if you were ten to one levered and you put all your assets into bonds then you're bankrupt that's why the banks are bankrupt because they were any any bank that was ten to one levered that put the majority of their assets into mid-dated bonds or long-dated bonds is technically insolvent the irony by the way is if they'd all bought Bitcoin they actually wouldn't be unsolved but of course you can't buy Bitcoin if you're a regulated bank and you and and the truth is there really is no winning strategy for a regulated bank because if the short-term fed funds rate went from zero percent to 500 basis points in 12 months just about anything that's fixed income that you would have bought would have\", metadata={'source': 'Onzd5QxKaGQ'}),\n",
       " Document(page_content=\"bought would have traded down it's just a question of whether it will be trading down five percent or fifteen percent or 20 percent over that time frame so do you anticipate more banking collapses then no I think whether I mean it's the politicians that decide whether the banks collapse and they can choose to have them not Collapse by backing them or they can choose to to take into receivership a bank and then the creditors and the equity holders are wiped out and the deposits aren't I think that's a political decision so I think in most places and most play in in the U.S since the U.S has the ability to create more dollars I don't think they'll let depositors get wiped out I do think they'll let some creditors and Equity holders get wiped out from time to time to make an example of them and the rest of the world and Argentina and turkeys and in lebanon's ETC if you can't create dollars then when their Banks actually are veering near collapse they're gonna have to go to the U.S regulators and ask for swap lines and ask and be bailed out by either the IMF or by by the treasury and if they are bailed out then they won't collapse and if they're not bailed out then they will collapse and I think you've you're seeing both of those examples now and you will see you will see more of them so the conclusion is under no circumstances would I have my money in a weak bank or in a bank in a weak country with a weak currency I think that's that's basically playing Russian roulette in the U.S I would have I would probably have confidence in my deposits but if I were an investor creditor to a smaller bank I would not have confidence in my Securities jetco News special coverage of Bitcoin 2023 is brought to you by coin payments crypto payments made easy\", metadata={'source': 'Onzd5QxKaGQ'})]"
      ]
     },
     "execution_count": 35,
     "metadata": {},
     "output_type": "execute_result"
    }
   ],
   "source": [
    "texts"
   ]
  },
  {
   "cell_type": "code",
   "execution_count": 22,
   "id": "f469a85b",
   "metadata": {},
   "outputs": [],
   "source": [
    "llm=OpenAI(temperature =0,openai_api_key=OPENAI_API_KEY,)"
   ]
  },
  {
   "cell_type": "markdown",
   "id": "a48139f7",
   "metadata": {},
   "source": [
    "# ££"
   ]
  },
  {
   "cell_type": "code",
   "execution_count": 46,
   "id": "9338ccda",
   "metadata": {},
   "outputs": [
    {
     "name": "stdout",
     "output_type": "stream",
     "text": [
      "\n",
      "\n",
      "\u001b[1m> Entering new StuffDocumentsChain chain...\u001b[0m\n",
      "\n",
      "\n",
      "\u001b[1m> Entering new LLMChain chain...\u001b[0m\n",
      "Prompt after formatting:\n",
      "\u001b[32;1m\u001b[1;3mWrite a concise summary of the following:\n",
      "\n",
      "\n",
      "\"gitco News special coverage of Bitcoin 2023 is brought to you by coin payments crypto payments made easy I'm Michelle McCrory we are at Bitcoin 2023 the largest Bitcoin conference in the world and we are kicking off our coverage with arguably a legend in the Bitcoin space Michael Saylor executive chairman and founder of microstrategy a prolific investor in Bitcoin best-selling author and one of the biggest proponents of Bitcoin Michael so good to have you with us thank you for having me well Michael I actually had the pleasure of first meeting you at Bitcoin 2021 we had an interview prior to that and then I had the pleasure of chatting to you face to face in Bitcoin 2021 and you said then that Bitcoin is going to be the emerging store of value Asset in the 21st century the dominant emerging store value Asset in the 21st century in terms of how Bitcoin is being deployed as a store of value Asset are you where you thought we would be two years on yeah actually um if we look back uh to when microstrategy began this journey which was around August of 2020 and we look at the performance of all major asset classes since that time period bitcoin's up about 140 percent uh the s p index is up maybe 25 percent the NASDAQ is up in the teens uh actually maybe even less uh gold is like a plus one percent Silver's been down it's lost money and bonds have have lost even more so Bitcoin is the best performing asset since then it is actually showing the promise of an inflation hedge and a store of value it has achieved that kind of performance in a volatile fashion but even on the sharp ratio of basis it's outperforming uh Alternatives and I guess the best alternative right now is really the s p index which requires that you take uh Equity risk the the world wants a hard commodity money but the second best commodity is gold and it's just not standing up to bitcoin at this point in time and the weaker Commodities like silver soybeans oil Timber they they just don't work because when\n",
      "\n",
      "work because when the price goes up you can make more of it and of course if you if you can't use a commodity you got to go to a security and if you go to a security you've got counterparty risk because Securities have issuers and so Bitcoin is filling this void it's the asset without an issuer that is not just a commodity but a scarcity it's capped and I think that's why it's outperforming all these other assets over this time period well as you mentioned you were the first public company to have Bitcoin on the the balance sheet as a reserve asset um part of the capital allocation strategy that was in the summer of uh 2020. uh you've subsequently added to that position uh you're up to about 140 000 Bitcoin with microstrategy and at the time you described it when you first purchased it as a Dependable store value and an attractive investment asset with more long-term appreciation potential than holding cash I mean that certainly has proven to be the case so far but again in terms of adoption are you surprised that it hasn't gotten more adoption as a treasury Reserve asset amongst other public companies by my count according to coin gecko only 23 publicly listed companies have Bitcoin as a treasury Reserve asset I believe after microstrategy Marathon digital Holdings has the highest Bitcoin ownership given everything you've just described are you surprised that more public companies don't see it the way you do well I guess we've gone from microstrategy being the first to there being two dozen or 24. so I think going from zero before we got into the market to 24 right now shows some promise for something which is completely new in the history of the human race um it doesn't surprise me uh the reason it's challenging is is a couple of factors one is the accounting the accounting was indefinite and intangible and if I had to boil that down that's toxic if I wanted you not to buy an asset I would make it indefinite an intangible accounting because what that means is you\"\n",
      "\n",
      "\n",
      "CONCISE SUMMARY:\u001b[0m\n",
      "\n",
      "\u001b[1m> Finished chain.\u001b[0m\n",
      "\n",
      "\u001b[1m> Finished chain.\u001b[0m\n",
      "Total Tokens: 909\n",
      "Prompt Tokens: 815\n",
      "Completion Tokens: 94\n",
      "Total Cost (USD): $0.01818\n",
      " Michael Saylor, executive chairman and founder of Microstrategy, is a prominent figure in the Bitcoin space. He believes that Bitcoin is the dominant emerging store of value asset in the 21st century, outperforming all other major asset classes since August 2020. Microstrategy has invested in 140,000 Bitcoin as a reserve asset, and while 24 publicly listed companies have followed suit, Saylor believes that the indefinite and intangible accounting of Bitcoin is a challenge to its adoption.\n"
     ]
    }
   ],
   "source": [
    "with get_openai_callback() as cb:\n",
    "    chain =load_summarize_chain(llm, chain_type=\"stuff\", verbose=True)\n",
    "    tx = chain.run(texts[:2])\n",
    "    print(f\"Total Tokens: {cb.total_tokens}\")\n",
    "    print(f\"Prompt Tokens: {cb.prompt_tokens}\")\n",
    "    print(f\"Completion Tokens: {cb.completion_tokens}\")\n",
    "    print(f\"Total Cost (USD): ${cb.total_cost}\")\n",
    "    print(tx)"
   ]
  },
  {
   "cell_type": "code",
   "execution_count": 13,
   "id": "6dd29f31",
   "metadata": {},
   "outputs": [
    {
     "name": "stdout",
     "output_type": "stream",
     "text": [
      "Michael Saylor, Vorstandsvorsitzender und Gründer von Microstrategy, ist ein prominentes Persönlichkeit in der Bitcoin-Sektor\n"
     ]
    }
   ],
   "source": [
    "# from transformers import T5Tokenizer, T5ForConditionalGeneration\n",
    "\n",
    "# tokenizer = T5Tokenizer.from_pretrained(\"google/flan-t5-base\")\n",
    "# model = T5ForConditionalGeneration.from_pretrained(\"google/flan-t5-base\")\n",
    "\n",
    "# input_text = f\"translate {tx} to German\"\n",
    "# input_ids = tokenizer(input_text, return_tensors=\"pt\").input_ids\n",
    "\n",
    "# # Adjust the parameters for generating longer translations\n",
    "# outputs = model.generate(\n",
    "#     input_ids,\n",
    "#     max_length=300,  # Increase the maximum length of the generated translation\n",
    "#     num_beams=10,   # Increase the number of beams for diverse translations\n",
    "#     early_stopping=True  # Stop generation when all beams finished\n",
    "# )\n",
    "\n",
    "# decoded_output = tokenizer.decode(outputs[0], skip_special_tokens=True)\n",
    "# german_translation = decoded_output.split(\".\")[0].strip()\n",
    "# print(german_translation)"
   ]
  },
  {
   "cell_type": "code",
   "execution_count": 36,
   "id": "2179cc7d",
   "metadata": {},
   "outputs": [
    {
     "name": "stdout",
     "output_type": "stream",
     "text": [
      "Übersetzen Michael Saylor, Executive Chairman und Gründer von Microstrategy, ist eine prominente Figur im Bitcoin Raum. Er glaubt, dass Bitcoin ist die dominierende aufstrebenden Speicher von Wertvermögen im 21. Jahrhundert, übertrifft alle anderen wichtigen Asset-Klassen seit August 2020. Microstrategy hat in 140.000 Bitcoin als Reserve-Asset investiert, und während 24 börsennotierten Unternehmen folgen, Saylor glaubt, die Buchhaltung von Bitcoin ist eine Herausforderung für mehr Unternehmen, es zu übernehmen. zu de .\n"
     ]
    }
   ],
   "source": [
    "from transformers import MarianMTModel, MarianTokenizer\n",
    "\n",
    "tokenizer = MarianTokenizer.from_pretrained(\"Helsinki-NLP/opus-mt-en-de\")\n",
    "model = MarianMTModel.from_pretrained(\"Helsinki-NLP/opus-mt-en-de\")\n",
    "\n",
    "input_text = f\"translate {tx} to de\"\n",
    "\n",
    "input_ids = tokenizer.encode(input_text, return_tensors=\"pt\")\n",
    "translated_ids = model.generate(input_ids, max_length=1024, num_return_sequences=1, early_stopping=True)\n",
    "\n",
    "german_translation = tokenizer.decode(translated_ids[0], skip_special_tokens=True)\n",
    "# Split at the first occurrence of punctuation followed by a space to get the first complete sentence\n",
    "german_sentence = german_translation.split(\" .\", 1)[0] + \" .\"\n",
    "print(german_sentence)\n",
    "\n"
   ]
  },
  {
   "cell_type": "code",
   "execution_count": null,
   "id": "01b9c58a",
   "metadata": {},
   "outputs": [],
   "source": []
  }
 ],
 "metadata": {
  "kernelspec": {
   "display_name": "Python 3 (ipykernel)",
   "language": "python",
   "name": "python3"
  },
  "language_info": {
   "codemirror_mode": {
    "name": "ipython",
    "version": 3
   },
   "file_extension": ".py",
   "mimetype": "text/x-python",
   "name": "python",
   "nbconvert_exporter": "python",
   "pygments_lexer": "ipython3",
   "version": "3.10.6"
  }
 },
 "nbformat": 4,
 "nbformat_minor": 5
}
